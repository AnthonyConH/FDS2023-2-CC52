{
 "cells": [
  {
   "cell_type": "code",
   "execution_count": 151,
   "metadata": {},
   "outputs": [],
   "source": [
    "import pandas as pd\n",
    "import json\n",
    "import seaborn as sns\n",
    "import numpy as np\n",
    "import matplotlib.pyplot as plt\n",
    "%matplotlib inline\n"
   ]
  },
  {
   "cell_type": "code",
   "execution_count": 152,
   "metadata": {},
   "outputs": [
    {
     "name": "stdout",
     "output_type": "stream",
     "text": [
      "      video_id trending_date  \\\n",
      "0  LgVi6y5QIjM      17.14.11   \n",
      "1  Bayt7uQith4      17.14.11   \n",
      "2  1ZAPwfrtAFY      17.14.11   \n",
      "3  AHtypnRk7JE      17.14.11   \n",
      "4  ZJ9We4bjcg0      17.14.11   \n",
      "\n",
      "                                               title            channel_title  \\\n",
      "0  Sing zu Ende! | Gesangseinlagen vom Feinsten |...                inscope21   \n",
      "1  Kinder ferngesteuert im Kiosk! Erwachsene abzo...  LUKE! Die Woche und ich   \n",
      "2  The Trump Presidency: Last Week Tonight with J...          LastWeekTonight   \n",
      "3                                Das Fermi-Paradoxon        100SekundenPhysik   \n",
      "4           18 SONGS mit Kelly MissesVlog (Sing-off)                     rezo   \n",
      "\n",
      "   category_id              publish_time  \\\n",
      "0           24  2017-11-13T17:08:49.000Z   \n",
      "1           23  2017-11-12T22:30:01.000Z   \n",
      "2           24  2017-11-13T07:30:00.000Z   \n",
      "3           27  2017-11-12T15:00:01.000Z   \n",
      "4           24  2017-11-12T13:10:36.000Z   \n",
      "\n",
      "                                                tags    views   likes  \\\n",
      "0  inscope21|\"sing zu ende\"|\"gesangseinlagen\"|\"ge...   252786   35885   \n",
      "1  Kinder|\"ferngesteuert\"|\"Kinder ferngesteuert\"|...   797196   53576   \n",
      "2  last week tonight trump presidency|\"last week ...  2418783   97190   \n",
      "3  Physik|\"Wissenschaft\"|\"Technik\"|\"Science-Ficti...   380247   31821   \n",
      "4  kelly|\"missesvlog\"|\"kelly song\"|\"bausa\"|\"bausa...   822213  100684   \n",
      "\n",
      "   dislikes  comment_count                                  thumbnail_link  \\\n",
      "0       230           1539  https://i.ytimg.com/vi/LgVi6y5QIjM/default.jpg   \n",
      "1       302           1278  https://i.ytimg.com/vi/Bayt7uQith4/default.jpg   \n",
      "2      6146          12703  https://i.ytimg.com/vi/1ZAPwfrtAFY/default.jpg   \n",
      "3       458           1955  https://i.ytimg.com/vi/AHtypnRk7JE/default.jpg   \n",
      "4      2467          10244  https://i.ytimg.com/vi/ZJ9We4bjcg0/default.jpg   \n",
      "\n",
      "   comments_disabled  ratings_disabled  video_error_or_removed  \\\n",
      "0              False             False                   False   \n",
      "1              False             False                   False   \n",
      "2              False             False                   False   \n",
      "3              False             False                   False   \n",
      "4              False             False                   False   \n",
      "\n",
      "                                         description                state  \\\n",
      "0  Heute gibt es mal wieder ein neues Format... w...   Schleswig Holstein   \n",
      "1  Kinder ferngesteuert! Kinder lassen sich sooo ...  Nordrhein Westfalen   \n",
      "2  One year after the presidential election, John...             Saarland   \n",
      "3  ►Alle Videos: http://bit.ly/1fa7Tw3\\n\\n\\n✚Snap...               Bayern   \n",
      "4  18 Song Mashup über den (veränderten) Beat von...               Berlin   \n",
      "\n",
      "         lat        lon                               geometry  \n",
      "0  54.783748   9.433315        POINT (9.433315388 54.78374778)  \n",
      "1  52.029988   8.530011  POINT (8.530011351000001 52.02998822)  \n",
      "2  49.250390   6.970003        POINT (6.970003213 49.25039044)  \n",
      "3  50.266607  10.966607        POINT (10.96660681 50.26660748)  \n",
      "4  52.521819  13.401549        POINT (13.40154862 52.52181866)  \n",
      "<class 'pandas.core.frame.DataFrame'>\n",
      "RangeIndex: 40840 entries, 0 to 40839\n",
      "Data columns (total 20 columns):\n",
      " #   Column                  Non-Null Count  Dtype  \n",
      "---  ------                  --------------  -----  \n",
      " 0   video_id                40840 non-null  object \n",
      " 1   trending_date           40840 non-null  object \n",
      " 2   title                   40840 non-null  object \n",
      " 3   channel_title           40840 non-null  object \n",
      " 4   category_id             40840 non-null  int64  \n",
      " 5   publish_time            40840 non-null  object \n",
      " 6   tags                    40840 non-null  object \n",
      " 7   views                   40840 non-null  int64  \n",
      " 8   likes                   40840 non-null  int64  \n",
      " 9   dislikes                40840 non-null  int64  \n",
      " 10  comment_count           40840 non-null  int64  \n",
      " 11  thumbnail_link          40840 non-null  object \n",
      " 12  comments_disabled       40840 non-null  bool   \n",
      " 13  ratings_disabled        40840 non-null  bool   \n",
      " 14  video_error_or_removed  40840 non-null  bool   \n",
      " 15  description             39288 non-null  object \n",
      " 16  state                   40840 non-null  object \n",
      " 17  lat                     40840 non-null  float64\n",
      " 18  lon                     40840 non-null  float64\n",
      " 19  geometry                40840 non-null  object \n",
      "dtypes: bool(3), float64(2), int64(5), object(10)\n",
      "memory usage: 5.4+ MB\n",
      "None\n"
     ]
    }
   ],
   "source": [
    "df=pd.read_csv('Recursos/DEvideos_cc50_202101.csv')\n",
    "print(df.head())\n",
    "print(df.info())"
   ]
  },
  {
   "cell_type": "code",
   "execution_count": 153,
   "metadata": {},
   "outputs": [
    {
     "data": {
      "text/plain": [
       "video_id                     0\n",
       "trending_date                0\n",
       "title                        0\n",
       "channel_title                0\n",
       "category_id                  0\n",
       "publish_time                 0\n",
       "tags                         0\n",
       "views                        0\n",
       "likes                        0\n",
       "dislikes                     0\n",
       "comment_count                0\n",
       "thumbnail_link               0\n",
       "comments_disabled            0\n",
       "ratings_disabled             0\n",
       "video_error_or_removed       0\n",
       "description               1552\n",
       "state                        0\n",
       "lat                          0\n",
       "lon                          0\n",
       "geometry                     0\n",
       "dtype: int64"
      ]
     },
     "execution_count": 153,
     "metadata": {},
     "output_type": "execute_result"
    }
   ],
   "source": [
    "\n",
    "#Verificamos los datos faltantes por columna:\n",
    "df.isnull().sum()"
   ]
  },
  {
   "cell_type": "code",
   "execution_count": 154,
   "metadata": {},
   "outputs": [
    {
     "data": {
      "text/plain": [
       "video_id                  0\n",
       "trending_date             0\n",
       "title                     0\n",
       "channel_title             0\n",
       "category_id               0\n",
       "publish_time              0\n",
       "tags                      0\n",
       "views                     0\n",
       "likes                     0\n",
       "dislikes                  0\n",
       "comment_count             0\n",
       "thumbnail_link            0\n",
       "comments_disabled         0\n",
       "ratings_disabled          0\n",
       "video_error_or_removed    0\n",
       "description               0\n",
       "state                     0\n",
       "lat                       0\n",
       "lon                       0\n",
       "geometry                  0\n",
       "dtype: int64"
      ]
     },
     "execution_count": 154,
     "metadata": {},
     "output_type": "execute_result"
    }
   ],
   "source": [
    "\n",
    "#Reemplazar valores faltantes que se encuentran sin descripción con el texto \"No descripction\"\n",
    "df=df.fillna(value='Sin descripcion.')\n",
    "# valores nulos despues del fill\n",
    "df.isnull().sum()"
   ]
  },
  {
   "cell_type": "code",
   "execution_count": 155,
   "metadata": {},
   "outputs": [
    {
     "data": {
      "text/plain": [
       "1044"
      ]
     },
     "execution_count": 155,
     "metadata": {},
     "output_type": "execute_result"
    }
   ],
   "source": [
    "#Comentarios desabilitados-DATOS SIN IMPORTANCIA\n",
    "(df.comments_disabled==True).sum()\n"
   ]
  },
  {
   "cell_type": "code",
   "execution_count": 156,
   "metadata": {},
   "outputs": [
    {
     "data": {
      "text/plain": [
       "672"
      ]
     },
     "execution_count": 156,
     "metadata": {},
     "output_type": "execute_result"
    }
   ],
   "source": [
    "#Rating deshabilitado-DATOS SIN IMPORTANCIA\n",
    "(df.ratings_disabled==True).sum()"
   ]
  },
  {
   "cell_type": "code",
   "execution_count": 157,
   "metadata": {},
   "outputs": [
    {
     "data": {
      "text/plain": [
       "14"
      ]
     },
     "execution_count": 157,
     "metadata": {},
     "output_type": "execute_result"
    }
   ],
   "source": [
    "#Rating deshabilitado-DATOS SIN IMPORTANCIA\n",
    "(df.video_error_or_removed==True).sum()"
   ]
  },
  {
   "cell_type": "code",
   "execution_count": 158,
   "metadata": {},
   "outputs": [
    {
     "data": {
      "text/plain": [
       "<Axes: >"
      ]
     },
     "execution_count": 158,
     "metadata": {},
     "output_type": "execute_result"
    },
    {
     "data": {
      "image/png": "[encoded data removed]",
      "text/plain": [
       "<Figure size 640x480 with 1 Axes>"
      ]
     },
     "metadata": {},
     "output_type": "display_data"
    }
   ],
   "source": [
    "#Valores booleanos que nos ayudaran a saber que datos son innecesarios\n",
    "test=df.select_dtypes(include='bool')\n",
    "counts = test.apply(pd.Series.value_counts).transpose()\n",
    "counts.plot(kind='bar')"
   ]
  },
  {
   "cell_type": "code",
   "execution_count": 159,
   "metadata": {},
   "outputs": [],
   "source": [
    "#Eliminamos comments_disabled,video_error,thumbail_link, tags y ratings_disabled\n",
    "df=df.drop([\"comments_disabled\",\"video_error_or_removed\", \"thumbnail_link\",\"tags\" ,\"ratings_disabled\"],axis=1)"
   ]
  },
  {
   "cell_type": "code",
   "execution_count": 160,
   "metadata": {},
   "outputs": [
    {
     "data": {
      "text/plain": [
       "<Axes: >"
      ]
     },
     "execution_count": 160,
     "metadata": {},
     "output_type": "execute_result"
    },
    {
     "data": {
      "image/png": "[encoded data removed]",
      "text/plain": [
       "<Figure size 640x480 with 1 Axes>"
      ]
     },
     "metadata": {},
     "output_type": "display_data"
    }
   ],
   "source": [
    "#Identificamos los outliers\n",
    "df.plot.box()"
   ]
  },
  {
   "cell_type": "code",
   "execution_count": 161,
   "metadata": {},
   "outputs": [
    {
     "data": {
      "text/plain": [
       "<Axes: >"
      ]
     },
     "execution_count": 161,
     "metadata": {},
     "output_type": "execute_result"
    },
    {
     "data": {
      "image/png": "[encoded data removed]",
      "text/plain": [
       "<Figure size 640x480 with 1 Axes>"
      ]
     },
     "metadata": {},
     "output_type": "display_data"
    }
   ],
   "source": [
    "sns.boxplot(df[\"category_id\"],orient='h')"
   ]
  },
  {
   "cell_type": "code",
   "execution_count": 162,
   "metadata": {},
   "outputs": [
    {
     "data": {
      "text/plain": [
       "<Axes: >"
      ]
     },
     "execution_count": 162,
     "metadata": {},
     "output_type": "execute_result"
    },
    {
     "data": {
      "image/png": "[encoded data removed]",
      "text/plain": [
       "<Figure size 640x480 with 1 Axes>"
      ]
     },
     "metadata": {},
     "output_type": "display_data"
    }
   ],
   "source": [
    "sns.boxplot(df[\"views\"],orient='h')"
   ]
  },
  {
   "cell_type": "code",
   "execution_count": 163,
   "metadata": {},
   "outputs": [
    {
     "data": {
      "text/plain": [
       "<Axes: >"
      ]
     },
     "execution_count": 163,
     "metadata": {},
     "output_type": "execute_result"
    },
    {
     "data": {
      "image/png": "[encoded data removed]",
      "text/plain": [
       "<Figure size 640x480 with 1 Axes>"
      ]
     },
     "metadata": {},
     "output_type": "display_data"
    }
   ],
   "source": [
    "sns.boxplot(df[\"likes\"],orient='h')"
   ]
  },
  {
   "cell_type": "code",
   "execution_count": 164,
   "metadata": {},
   "outputs": [
    {
     "data": {
      "text/plain": [
       "<Axes: >"
      ]
     },
     "execution_count": 164,
     "metadata": {},
     "output_type": "execute_result"
    },
    {
     "data": {
      "image/png": "[encoded data removed]",
      "text/plain": [
       "<Figure size 640x480 with 1 Axes>"
      ]
     },
     "metadata": {},
     "output_type": "display_data"
    }
   ],
   "source": [
    "sns.boxplot(df[\"dislikes\"],orient='h')"
   ]
  },
  {
   "cell_type": "code",
   "execution_count": 165,
   "metadata": {},
   "outputs": [
    {
     "data": {
      "text/plain": [
       "<Axes: >"
      ]
     },
     "execution_count": 165,
     "metadata": {},
     "output_type": "execute_result"
    },
    {
     "data": {
      "image/png": "[encoded data removed]",
      "text/plain": [
       "<Figure size 640x480 with 1 Axes>"
      ]
     },
     "metadata": {},
     "output_type": "display_data"
    }
   ],
   "source": [
    "\n",
    "sns.boxplot(df[\"comment_count\"],orient='h')"
   ]
  },
  {
   "cell_type": "code",
   "execution_count": 166,
   "metadata": {},
   "outputs": [],
   "source": [
    "#Leemos el archivo JSON\n",
    "with open('Recursos/DE_category_id.json') as d:\n",
    "    jdata = json.load(d)"
   ]
  },
  {
   "cell_type": "code",
   "execution_count": 167,
   "metadata": {},
   "outputs": [],
   "source": [
    "# Inicializa un diccionario para almacenar datos\n",
    "data = {'category_id': [], 'title_category': []}\n",
    "\n",
    "# Itera a través de los elementos y extrae la información\n",
    "for item in jdata.get('items', []):\n",
    "    data['category_id'].append(item.get('id', 'N/A'))\n",
    "    data['title_category'].append(item.get('snippet', {}).get('title', 'N/A'))\n",
    "\n",
    "# Crea el DataFrame\n",
    "dfson = pd.DataFrame(data)"
   ]
  },
  {
   "cell_type": "code",
   "execution_count": 168,
   "metadata": {},
   "outputs": [
    {
     "name": "stdout",
     "output_type": "stream",
     "text": [
      "   category_id        title_category\n",
      "0            1      Film & Animation\n",
      "1            2      Autos & Vehicles\n",
      "2           10                 Music\n",
      "3           15        Pets & Animals\n",
      "4           17                Sports\n",
      "5           18          Short Movies\n",
      "6           19       Travel & Events\n",
      "7           20                Gaming\n",
      "8           21         Videoblogging\n",
      "9           22        People & Blogs\n",
      "10          23                Comedy\n",
      "11          24         Entertainment\n",
      "12          25       News & Politics\n",
      "13          26         Howto & Style\n",
      "14          27             Education\n",
      "15          28  Science & Technology\n",
      "16          30                Movies\n",
      "17          31       Anime/Animation\n",
      "18          32      Action/Adventure\n",
      "19          33              Classics\n",
      "20          34                Comedy\n",
      "21          35           Documentary\n",
      "22          36                 Drama\n",
      "23          37                Family\n",
      "24          38               Foreign\n",
      "25          39                Horror\n",
      "26          40        Sci-Fi/Fantasy\n",
      "27          41              Thriller\n",
      "28          42                Shorts\n",
      "29          43                 Shows\n",
      "30          44              Trailers\n"
     ]
    }
   ],
   "source": [
    "# Mostramos el dataframe\n",
    "print(dfson)"
   ]
  },
  {
   "cell_type": "code",
   "execution_count": 169,
   "metadata": {},
   "outputs": [
    {
     "data": {
      "text/html": [
       "<div>\n",
       "<style scoped>\n",
       "    .dataframe tbody tr th:only-of-type {\n",
       "        vertical-align: middle;\n",
       "    }\n",
       "\n",
       "    .dataframe tbody tr th {\n",
       "        vertical-align: top;\n",
       "    }\n",
       "\n",
       "    .dataframe thead th {\n",
       "        text-align: right;\n",
       "    }\n",
       "</style>\n",
       "<table border=\"1\" class=\"dataframe\">\n",
       "  <thead>\n",
       "    <tr style=\"text-align: right;\">\n",
       "      <th></th>\n",
       "      <th>video_id</th>\n",
       "      <th>trending_date</th>\n",
       "      <th>title</th>\n",
       "      <th>channel_title</th>\n",
       "      <th>category_id</th>\n",
       "      <th>publish_time</th>\n",
       "      <th>views</th>\n",
       "      <th>likes</th>\n",
       "      <th>dislikes</th>\n",
       "      <th>comment_count</th>\n",
       "      <th>description</th>\n",
       "      <th>state</th>\n",
       "      <th>lat</th>\n",
       "      <th>lon</th>\n",
       "      <th>geometry</th>\n",
       "      <th>title_category</th>\n",
       "      <th>comment_count_scaled</th>\n",
       "      <th>popularity</th>\n",
       "      <th>public_acceptance</th>\n",
       "    </tr>\n",
       "  </thead>\n",
       "  <tbody>\n",
       "    <tr>\n",
       "      <th>0</th>\n",
       "      <td>LgVi6y5QIjM</td>\n",
       "      <td>17.14.11</td>\n",
       "      <td>Sing zu Ende! | Gesangseinlagen vom Feinsten |...</td>\n",
       "      <td>inscope21</td>\n",
       "      <td>24</td>\n",
       "      <td>2017-11-13T17:08:49.000Z</td>\n",
       "      <td>252786</td>\n",
       "      <td>35885</td>\n",
       "      <td>230</td>\n",
       "      <td>1539</td>\n",
       "      <td>Heute gibt es mal wieder ein neues Format... w...</td>\n",
       "      <td>Schleswig Holstein</td>\n",
       "      <td>54.783748</td>\n",
       "      <td>9.433315</td>\n",
       "      <td>POINT (9.433315388 54.78374778)</td>\n",
       "      <td>Entertainment</td>\n",
       "      <td>0.001419</td>\n",
       "      <td>Medium</td>\n",
       "      <td>0.993631</td>\n",
       "    </tr>\n",
       "    <tr>\n",
       "      <th>1</th>\n",
       "      <td>Bayt7uQith4</td>\n",
       "      <td>17.14.11</td>\n",
       "      <td>Kinder ferngesteuert im Kiosk! Erwachsene abzo...</td>\n",
       "      <td>LUKE! Die Woche und ich</td>\n",
       "      <td>23</td>\n",
       "      <td>2017-11-12T22:30:01.000Z</td>\n",
       "      <td>797196</td>\n",
       "      <td>53576</td>\n",
       "      <td>302</td>\n",
       "      <td>1278</td>\n",
       "      <td>Kinder ferngesteuert! Kinder lassen sich sooo ...</td>\n",
       "      <td>Nordrhein Westfalen</td>\n",
       "      <td>52.029988</td>\n",
       "      <td>8.530011</td>\n",
       "      <td>POINT (8.530011351000001 52.02998822)</td>\n",
       "      <td>Comedy</td>\n",
       "      <td>0.001178</td>\n",
       "      <td>Medium</td>\n",
       "      <td>0.994395</td>\n",
       "    </tr>\n",
       "    <tr>\n",
       "      <th>2</th>\n",
       "      <td>1ZAPwfrtAFY</td>\n",
       "      <td>17.14.11</td>\n",
       "      <td>The Trump Presidency: Last Week Tonight with J...</td>\n",
       "      <td>LastWeekTonight</td>\n",
       "      <td>24</td>\n",
       "      <td>2017-11-13T07:30:00.000Z</td>\n",
       "      <td>2418783</td>\n",
       "      <td>97190</td>\n",
       "      <td>6146</td>\n",
       "      <td>12703</td>\n",
       "      <td>One year after the presidential election, John...</td>\n",
       "      <td>Saarland</td>\n",
       "      <td>49.250390</td>\n",
       "      <td>6.970003</td>\n",
       "      <td>POINT (6.970003213 49.25039044)</td>\n",
       "      <td>Entertainment</td>\n",
       "      <td>0.011714</td>\n",
       "      <td>High</td>\n",
       "      <td>0.940524</td>\n",
       "    </tr>\n",
       "    <tr>\n",
       "      <th>3</th>\n",
       "      <td>AHtypnRk7JE</td>\n",
       "      <td>17.14.11</td>\n",
       "      <td>Das Fermi-Paradoxon</td>\n",
       "      <td>100SekundenPhysik</td>\n",
       "      <td>27</td>\n",
       "      <td>2017-11-12T15:00:01.000Z</td>\n",
       "      <td>380247</td>\n",
       "      <td>31821</td>\n",
       "      <td>458</td>\n",
       "      <td>1955</td>\n",
       "      <td>►Alle Videos: http://bit.ly/1fa7Tw3\\n\\n\\n✚Snap...</td>\n",
       "      <td>Bayern</td>\n",
       "      <td>50.266607</td>\n",
       "      <td>10.966607</td>\n",
       "      <td>POINT (10.96660681 50.26660748)</td>\n",
       "      <td>Education</td>\n",
       "      <td>0.001803</td>\n",
       "      <td>Medium</td>\n",
       "      <td>0.985811</td>\n",
       "    </tr>\n",
       "    <tr>\n",
       "      <th>4</th>\n",
       "      <td>ZJ9We4bjcg0</td>\n",
       "      <td>17.14.11</td>\n",
       "      <td>18 SONGS mit Kelly MissesVlog (Sing-off)</td>\n",
       "      <td>rezo</td>\n",
       "      <td>24</td>\n",
       "      <td>2017-11-12T13:10:36.000Z</td>\n",
       "      <td>822213</td>\n",
       "      <td>100684</td>\n",
       "      <td>2467</td>\n",
       "      <td>10244</td>\n",
       "      <td>18 Song Mashup über den (veränderten) Beat von...</td>\n",
       "      <td>Berlin</td>\n",
       "      <td>52.521819</td>\n",
       "      <td>13.401549</td>\n",
       "      <td>POINT (13.40154862 52.52181866)</td>\n",
       "      <td>Entertainment</td>\n",
       "      <td>0.009446</td>\n",
       "      <td>Medium</td>\n",
       "      <td>0.976084</td>\n",
       "    </tr>\n",
       "    <tr>\n",
       "      <th>...</th>\n",
       "      <td>...</td>\n",
       "      <td>...</td>\n",
       "      <td>...</td>\n",
       "      <td>...</td>\n",
       "      <td>...</td>\n",
       "      <td>...</td>\n",
       "      <td>...</td>\n",
       "      <td>...</td>\n",
       "      <td>...</td>\n",
       "      <td>...</td>\n",
       "      <td>...</td>\n",
       "      <td>...</td>\n",
       "      <td>...</td>\n",
       "      <td>...</td>\n",
       "      <td>...</td>\n",
       "      <td>...</td>\n",
       "      <td>...</td>\n",
       "      <td>...</td>\n",
       "      <td>...</td>\n",
       "    </tr>\n",
       "    <tr>\n",
       "      <th>40835</th>\n",
       "      <td>fn5WNxy-Wcw</td>\n",
       "      <td>18.14.06</td>\n",
       "      <td>KINGDOM HEARTS III – E3 2018 Pirates of the Ca...</td>\n",
       "      <td>Kingdom Hearts</td>\n",
       "      <td>20</td>\n",
       "      <td>2018-06-12T01:54:02.000Z</td>\n",
       "      <td>1394530</td>\n",
       "      <td>46778</td>\n",
       "      <td>501</td>\n",
       "      <td>9878</td>\n",
       "      <td>Find out more about Kingdom Hearts 3: https://...</td>\n",
       "      <td>Hessen</td>\n",
       "      <td>51.300007</td>\n",
       "      <td>9.500030</td>\n",
       "      <td>POINT (9.500029661999999 51.30000694)</td>\n",
       "      <td>Gaming</td>\n",
       "      <td>0.009109</td>\n",
       "      <td>High</td>\n",
       "      <td>0.989403</td>\n",
       "    </tr>\n",
       "    <tr>\n",
       "      <th>40836</th>\n",
       "      <td>zAFv43lxqHE</td>\n",
       "      <td>18.14.06</td>\n",
       "      <td>YMS: The Visit</td>\n",
       "      <td>YourMovieSucksDOTorg</td>\n",
       "      <td>24</td>\n",
       "      <td>2018-06-13T21:58:43.000Z</td>\n",
       "      <td>139733</td>\n",
       "      <td>11155</td>\n",
       "      <td>119</td>\n",
       "      <td>1968</td>\n",
       "      <td>Patreon: http://www.patreon.com/YMSTwitch: htt...</td>\n",
       "      <td>Berlin</td>\n",
       "      <td>52.521819</td>\n",
       "      <td>13.401549</td>\n",
       "      <td>POINT (13.40154862 52.52181866)</td>\n",
       "      <td>Entertainment</td>\n",
       "      <td>0.001815</td>\n",
       "      <td>Medium</td>\n",
       "      <td>0.989445</td>\n",
       "    </tr>\n",
       "    <tr>\n",
       "      <th>40837</th>\n",
       "      <td>zSXG5I6Y2fA</td>\n",
       "      <td>18.14.06</td>\n",
       "      <td>Ungut umgeschult – Grünwald als Ersthelfer am ...</td>\n",
       "      <td>Grünwald Freitagscomedy</td>\n",
       "      <td>24</td>\n",
       "      <td>2018-06-12T10:01:28.000Z</td>\n",
       "      <td>26054</td>\n",
       "      <td>364</td>\n",
       "      <td>11</td>\n",
       "      <td>8</td>\n",
       "      <td>Günter versucht sich als Ersthelfer bei einem ...</td>\n",
       "      <td>Saarland</td>\n",
       "      <td>49.250390</td>\n",
       "      <td>6.970003</td>\n",
       "      <td>POINT (6.970003213 49.25039044)</td>\n",
       "      <td>Entertainment</td>\n",
       "      <td>0.000007</td>\n",
       "      <td>Low</td>\n",
       "      <td>0.970667</td>\n",
       "    </tr>\n",
       "    <tr>\n",
       "      <th>40838</th>\n",
       "      <td>5d115sePmaU</td>\n",
       "      <td>18.14.06</td>\n",
       "      <td>Assassin's Creed Odyssey: E3 2018 Welt-Enthüll...</td>\n",
       "      <td>Assassin's Creed DE</td>\n",
       "      <td>20</td>\n",
       "      <td>2018-06-11T21:16:55.000Z</td>\n",
       "      <td>1139198</td>\n",
       "      <td>14900</td>\n",
       "      <td>1421</td>\n",
       "      <td>1587</td>\n",
       "      <td>Vom verstoßenen Söldner zum legendären Helden,...</td>\n",
       "      <td>Brandenburg</td>\n",
       "      <td>51.770418</td>\n",
       "      <td>14.329967</td>\n",
       "      <td>POINT (14.32996741 51.7704175)</td>\n",
       "      <td>Gaming</td>\n",
       "      <td>0.001463</td>\n",
       "      <td>High</td>\n",
       "      <td>0.912934</td>\n",
       "    </tr>\n",
       "    <tr>\n",
       "      <th>40839</th>\n",
       "      <td>go-F6xvezAM</td>\n",
       "      <td>18.14.06</td>\n",
       "      <td>Гироскутер - Азбука Уральских Пельменей Б - Ур...</td>\n",
       "      <td>Уральские Пельмени</td>\n",
       "      <td>23</td>\n",
       "      <td>2018-06-13T15:02:15.000Z</td>\n",
       "      <td>316328</td>\n",
       "      <td>11394</td>\n",
       "      <td>352</td>\n",
       "      <td>550</td>\n",
       "      <td>Популярный номер из нового шоу Азбука Уральски...</td>\n",
       "      <td>Hamburg</td>\n",
       "      <td>53.550025</td>\n",
       "      <td>9.999999</td>\n",
       "      <td>POINT (9.999999144 53.55002464)</td>\n",
       "      <td>Comedy</td>\n",
       "      <td>0.000507</td>\n",
       "      <td>Medium</td>\n",
       "      <td>0.970032</td>\n",
       "    </tr>\n",
       "  </tbody>\n",
       "</table>\n",
       "<p>40840 rows × 19 columns</p>\n",
       "</div>"
      ],
      "text/plain": [
       "          video_id trending_date  \\\n",
       "0      LgVi6y5QIjM      17.14.11   \n",
       "1      Bayt7uQith4      17.14.11   \n",
       "2      1ZAPwfrtAFY      17.14.11   \n",
       "3      AHtypnRk7JE      17.14.11   \n",
       "4      ZJ9We4bjcg0      17.14.11   \n",
       "...            ...           ...   \n",
       "40835  fn5WNxy-Wcw      18.14.06   \n",
       "40836  zAFv43lxqHE      18.14.06   \n",
       "40837  zSXG5I6Y2fA      18.14.06   \n",
       "40838  5d115sePmaU      18.14.06   \n",
       "40839  go-F6xvezAM      18.14.06   \n",
       "\n",
       "                                                   title  \\\n",
       "0      Sing zu Ende! | Gesangseinlagen vom Feinsten |...   \n",
       "1      Kinder ferngesteuert im Kiosk! Erwachsene abzo...   \n",
       "2      The Trump Presidency: Last Week Tonight with J...   \n",
       "3                                    Das Fermi-Paradoxon   \n",
       "4               18 SONGS mit Kelly MissesVlog (Sing-off)   \n",
       "...                                                  ...   \n",
       "40835  KINGDOM HEARTS III – E3 2018 Pirates of the Ca...   \n",
       "40836                                     YMS: The Visit   \n",
       "40837  Ungut umgeschult – Grünwald als Ersthelfer am ...   \n",
       "40838  Assassin's Creed Odyssey: E3 2018 Welt-Enthüll...   \n",
       "40839  Гироскутер - Азбука Уральских Пельменей Б - Ур...   \n",
       "\n",
       "                 channel_title category_id              publish_time    views  \\\n",
       "0                    inscope21          24  2017-11-13T17:08:49.000Z   252786   \n",
       "1      LUKE! Die Woche und ich          23  2017-11-12T22:30:01.000Z   797196   \n",
       "2              LastWeekTonight          24  2017-11-13T07:30:00.000Z  2418783   \n",
       "3            100SekundenPhysik          27  2017-11-12T15:00:01.000Z   380247   \n",
       "4                         rezo          24  2017-11-12T13:10:36.000Z   822213   \n",
       "...                        ...         ...                       ...      ...   \n",
       "40835           Kingdom Hearts          20  2018-06-12T01:54:02.000Z  1394530   \n",
       "40836     YourMovieSucksDOTorg          24  2018-06-13T21:58:43.000Z   139733   \n",
       "40837  Grünwald Freitagscomedy          24  2018-06-12T10:01:28.000Z    26054   \n",
       "40838      Assassin's Creed DE          20  2018-06-11T21:16:55.000Z  1139198   \n",
       "40839       Уральские Пельмени          23  2018-06-13T15:02:15.000Z   316328   \n",
       "\n",
       "        likes  dislikes  comment_count  \\\n",
       "0       35885       230           1539   \n",
       "1       53576       302           1278   \n",
       "2       97190      6146          12703   \n",
       "3       31821       458           1955   \n",
       "4      100684      2467          10244   \n",
       "...       ...       ...            ...   \n",
       "40835   46778       501           9878   \n",
       "40836   11155       119           1968   \n",
       "40837     364        11              8   \n",
       "40838   14900      1421           1587   \n",
       "40839   11394       352            550   \n",
       "\n",
       "                                             description                state  \\\n",
       "0      Heute gibt es mal wieder ein neues Format... w...   Schleswig Holstein   \n",
       "1      Kinder ferngesteuert! Kinder lassen sich sooo ...  Nordrhein Westfalen   \n",
       "2      One year after the presidential election, John...             Saarland   \n",
       "3      ►Alle Videos: http://bit.ly/1fa7Tw3\\n\\n\\n✚Snap...               Bayern   \n",
       "4      18 Song Mashup über den (veränderten) Beat von...               Berlin   \n",
       "...                                                  ...                  ...   \n",
       "40835  Find out more about Kingdom Hearts 3: https://...               Hessen   \n",
       "40836  Patreon: http://www.patreon.com/YMSTwitch: htt...               Berlin   \n",
       "40837  Günter versucht sich als Ersthelfer bei einem ...             Saarland   \n",
       "40838  Vom verstoßenen Söldner zum legendären Helden,...          Brandenburg   \n",
       "40839  Популярный номер из нового шоу Азбука Уральски...              Hamburg   \n",
       "\n",
       "             lat        lon                               geometry  \\\n",
       "0      54.783748   9.433315        POINT (9.433315388 54.78374778)   \n",
       "1      52.029988   8.530011  POINT (8.530011351000001 52.02998822)   \n",
       "2      49.250390   6.970003        POINT (6.970003213 49.25039044)   \n",
       "3      50.266607  10.966607        POINT (10.96660681 50.26660748)   \n",
       "4      52.521819  13.401549        POINT (13.40154862 52.52181866)   \n",
       "...          ...        ...                                    ...   \n",
       "40835  51.300007   9.500030  POINT (9.500029661999999 51.30000694)   \n",
       "40836  52.521819  13.401549        POINT (13.40154862 52.52181866)   \n",
       "40837  49.250390   6.970003        POINT (6.970003213 49.25039044)   \n",
       "40838  51.770418  14.329967         POINT (14.32996741 51.7704175)   \n",
       "40839  53.550025   9.999999        POINT (9.999999144 53.55002464)   \n",
       "\n",
       "      title_category  comment_count_scaled popularity  public_acceptance  \n",
       "0      Entertainment              0.001419     Medium           0.993631  \n",
       "1             Comedy              0.001178     Medium           0.994395  \n",
       "2      Entertainment              0.011714       High           0.940524  \n",
       "3          Education              0.001803     Medium           0.985811  \n",
       "4      Entertainment              0.009446     Medium           0.976084  \n",
       "...              ...                   ...        ...                ...  \n",
       "40835         Gaming              0.009109       High           0.989403  \n",
       "40836  Entertainment              0.001815     Medium           0.989445  \n",
       "40837  Entertainment              0.000007        Low           0.970667  \n",
       "40838         Gaming              0.001463       High           0.912934  \n",
       "40839         Comedy              0.000507     Medium           0.970032  \n",
       "\n",
       "[40840 rows x 19 columns]"
      ]
     },
     "execution_count": 169,
     "metadata": {},
     "output_type": "execute_result"
    }
   ],
   "source": [
    "#nuevos datos json\n",
    "df['category_id'] = df['category_id'].astype(type(dfson['category_id'].iloc[0]))\n",
    "df = pd.merge(df, dfson, on='category_id', how='left')\n",
    "# Min max scaling para \"comment_count\"\n",
    "df[\"comment_count_scaled\"] = (df[\"comment_count\"] - df[\"comment_count\"].min()) / (df[\"comment_count\"].max() - df[\"comment_count\"].min())\n",
    "# Creación de la columna 'popularity' basada en intervalos de vistas\n",
    "df['popularity'] = pd.cut(df['views'], bins=[0, 10000, 100000, 1000000, 10000000, float('inf')], labels=['Very Low', 'Low', 'Medium', 'High', 'Very High'])\n",
    "# Creación de la columna 'public_acceptance' basada en likes y dislikes\n",
    "df['public_acceptance'] = (df[\"likes\"])/(df[\"likes\"]+df[\"dislikes\"])\n",
    "df"
   ]
  },
  {
   "cell_type": "code",
   "execution_count": 170,
   "metadata": {},
   "outputs": [],
   "source": [
    "#Exportamos el dataset actualizado\n",
    "\n",
    "df.to_csv(\"DE_videos.csv\")"
   ]
  }
 ],
 "metadata": {
  "kernelspec": {
   "display_name": "base",
   "language": "python",
   "name": "python3"
  },
  "language_info": {
   "codemirror_mode": {
    "name": "ipython",
    "version": 3
   },
   "file_extension": ".py",
   "mimetype": "text/x-python",
   "name": "python",
   "nbconvert_exporter": "python",
   "pygments_lexer": "ipython3",
   "version": "3.11.4"
  }
 },
 "nbformat": 4,
 "nbformat_minor": 2
}
